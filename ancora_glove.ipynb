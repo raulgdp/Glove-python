{
 "cells": [
  {
   "cell_type": "code",
   "execution_count": 17,
   "metadata": {},
   "outputs": [],
   "source": [
    "#pip install glove_python\n",
    "import os\n",
    "import sys\n",
    "import nltk\n",
    "import multiprocessing\n",
    "import itertools\n",
    "from glove import Corpus, Glove"
   ]
  },
  {
   "cell_type": "markdown",
   "metadata": {},
   "source": [
    "Se Cargan los Archivos en texto"
   ]
  },
  {
   "cell_type": "code",
   "execution_count": 18,
   "metadata": {},
   "outputs": [
    {
     "name": "stdout",
     "output_type": "stream",
     "text": [
      "['/home/deep-learning/Documentos/glove_ancora/raw/ancora-3.0/CESS-CAST-AA-raw.txt', '/home/deep-learning/Documentos/glove_ancora/raw/ancora-3.0/ANCORA-CESS-ALL-raw.txt', '/home/deep-learning/Documentos/glove_ancora/raw/ancora-3.0/3LB-CAST-raw.txt', '/home/deep-learning/Documentos/glove_ancora/raw/ancora-3.0/CESS-CAST-P-raw.txt', '/home/deep-learning/Documentos/glove_ancora/raw/ancora-3.0/CESS-CAST-A-raw.txt']\n"
     ]
    }
   ],
   "source": [
    "path = os.getcwd() + '/raw'\n",
    "\n",
    "files = []\n",
    "# r=root, d=directories, f = files\n",
    "for r, d, f in os.walk(path):\n",
    "    for file in f:\n",
    "        if '.txt' in file:\n",
    "            files.append(os.path.join(r, file))\n",
    "\n",
    "print(files)"
   ]
  },
  {
   "cell_type": "markdown",
   "metadata": {},
   "source": [
    "Se crea un array con todas las palbras presentes en el texto sin repetir palabras"
   ]
  },
  {
   "cell_type": "code",
   "execution_count": 19,
   "metadata": {},
   "outputs": [
    {
     "name": "stdout",
     "output_type": "stream",
     "text": [
      "34756\n"
     ]
    }
   ],
   "source": [
    "sentences = []\n",
    "\n",
    "for i, f in enumerate(files):\n",
    "    archivo = open(f, \"r\")\n",
    "    fl = archivo.readlines()\n",
    "    for x in fl:\n",
    "        tokens = nltk.word_tokenize(x)\n",
    "        sentences.append(tokens)\n",
    "print(len(sentences))"
   ]
  },
  {
   "cell_type": "markdown",
   "metadata": {},
   "source": [
    "Se invoca la libreria para pasarle las oraciones.\n",
    "Se define el tamaño de la matriz embebida en un array, creara todos los tamaños que se especifique [10, 20, 100]\n",
    "Usamos 4 hilos pero depende de el pc usado para esta tarea.\n",
    "Si no se conoce el numero de hilos descomentar la intruccion señalada.\n",
    "Se crearán vectores de dimensión 300."
   ]
  },
  {
   "cell_type": "code",
   "execution_count": 20,
   "metadata": {},
   "outputs": [],
   "source": [
    "corpus = Corpus()\n",
    "corpus.fit(sentences, window=5)\n",
    "\n",
    "num_components = [300]\n",
    "no_threads = 4 #multiprocessing.cpu_count()"
   ]
  },
  {
   "cell_type": "markdown",
   "metadata": {},
   "source": [
    "Se procede a crear los vectores indicados en la configuración"
   ]
  },
  {
   "cell_type": "code",
   "execution_count": 21,
   "metadata": {},
   "outputs": [
    {
     "name": "stdout",
     "output_type": "stream",
     "text": [
      "Performing 30 training epochs with 4 threads\n",
      "Epoch 0\n",
      "Epoch 1\n",
      "Epoch 2\n",
      "Epoch 3\n",
      "Epoch 4\n",
      "Epoch 5\n",
      "Epoch 6\n",
      "Epoch 7\n",
      "Epoch 8\n",
      "Epoch 9\n",
      "Epoch 10\n",
      "Epoch 11\n",
      "Epoch 12\n",
      "Epoch 13\n",
      "Epoch 14\n",
      "Epoch 15\n",
      "Epoch 16\n",
      "Epoch 17\n",
      "Epoch 18\n",
      "Epoch 19\n",
      "Epoch 20\n",
      "Epoch 21\n",
      "Epoch 22\n",
      "Epoch 23\n",
      "Epoch 24\n",
      "Epoch 25\n",
      "Epoch 26\n",
      "Epoch 27\n",
      "Epoch 28\n",
      "Epoch 29\n",
      "Terminó el entrenamiento\n"
     ]
    }
   ],
   "source": [
    "for p in num_components:\n",
    "    glove = Glove(no_components=p, learning_rate=0.05)\n",
    "    glove.fit(corpus.matrix, epochs=30, no_threads=no_threads, verbose=True)\n",
    "    glove.add_dictionary(corpus.dictionary)\n",
    "    #glove.save('model/glove_model_bioinfer_' + str(p) +  '.bin')\n",
    "    #print(dir(glove))\n",
    "    with open('model/glove_model_' + str(p) +  '.txt', \"w\") as txt_file:\n",
    "        for t, k in enumerate(glove.word_vectors):\n",
    "            for word, key in glove.dictionary.items():\n",
    "                if (t == key):\n",
    "                    txt_file.write(word + \" \" + \" \".join(str(elem) for elem in k) + \"\\n\")\n",
    "                    break\n",
    "    del glove\n",
    "print('Terminó el entrenamiento')"
   ]
  },
  {
   "cell_type": "code",
   "execution_count": null,
   "metadata": {},
   "outputs": [],
   "source": []
  }
 ],
 "metadata": {
  "kernelspec": {
   "display_name": "Python 3",
   "language": "python",
   "name": "python3"
  },
  "language_info": {
   "codemirror_mode": {
    "name": "ipython",
    "version": 3
   },
   "file_extension": ".py",
   "mimetype": "text/x-python",
   "name": "python",
   "nbconvert_exporter": "python",
   "pygments_lexer": "ipython3",
   "version": "3.7.4"
  }
 },
 "nbformat": 4,
 "nbformat_minor": 4
}
